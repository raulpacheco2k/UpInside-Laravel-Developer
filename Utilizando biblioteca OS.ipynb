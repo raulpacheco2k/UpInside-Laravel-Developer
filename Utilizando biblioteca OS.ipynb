{
  "nbformat": 4,
  "nbformat_minor": 0,
  "metadata": {
    "colab": {
      "name": "Untitled2.ipynb",
      "provenance": [],
      "authorship_tag": "ABX9TyOKsXMppH6lDDmCiMaZ0SFB",
      "include_colab_link": true
    },
    "kernelspec": {
      "name": "python3",
      "display_name": "Python 3"
    },
    "language_info": {
      "name": "python"
    }
  },
  "cells": [
    {
      "cell_type": "markdown",
      "metadata": {
        "id": "view-in-github",
        "colab_type": "text"
      },
      "source": [
        "<a href=\"https://colab.research.google.com/github/raulpacheco2k/CMS/blob/main/Utilizando%20biblioteca%20OS.ipynb\" target=\"_parent\"><img src=\"https://colab.research.google.com/assets/colab-badge.svg\" alt=\"Open In Colab\"/></a>"
      ]
    },
    {
      "cell_type": "markdown",
      "metadata": {
        "id": "-yrm46HtK4pK"
      },
      "source": [
        "# Introdução a biblioteca padrão OS\n",
        "\n",
        "A biblioteca padrão OS do Python nos permite manipular os diretórios do Linux através de algumas funções, essas nos permite criar, remover, listar, abrir pastas e visualizar nosso diretório atual."
      ]
    },
    {
      "cell_type": "markdown",
      "metadata": {
        "id": "SlG2uHKcOmTu"
      },
      "source": [
        "Para começar a usar a biblioteca teremos que importá-la."
      ]
    },
    {
      "cell_type": "code",
      "metadata": {
        "id": "PUv9dFUoKJC0"
      },
      "source": [
        "import os"
      ],
      "execution_count": 1,
      "outputs": []
    },
    {
      "cell_type": "markdown",
      "metadata": {
        "id": "Dr-dt-FCPFyh"
      },
      "source": [
        "Para visualizar nosso diretório atual, podemos usar a função `get_cwd()` que ira retornar a nossa localização atual."
      ]
    },
    {
      "cell_type": "code",
      "metadata": {
        "colab": {
          "base_uri": "https://localhost:8080/",
          "height": 35
        },
        "id": "s5LtRIbhKOxa",
        "outputId": "8a678ee2-a5b1-4a5d-e107-a322a46ff2a8"
      },
      "source": [
        "os.getcwd()"
      ],
      "execution_count": 23,
      "outputs": [
        {
          "output_type": "execute_result",
          "data": {
            "application/vnd.google.colaboratory.intrinsic+json": {
              "type": "string"
            },
            "text/plain": [
              "'/content'"
            ]
          },
          "metadata": {
            "tags": []
          },
          "execution_count": 23
        }
      ]
    },
    {
      "cell_type": "markdown",
      "metadata": {
        "id": "S5zm1nbYPJuM"
      },
      "source": [
        "Para criar uma pasta utilizaremos a função `mkdir` e passaremos para ela um argumento, este deve ser o nome da nossa pasta."
      ]
    },
    {
      "cell_type": "code",
      "metadata": {
        "id": "O5CtBW00PXAS"
      },
      "source": [
        "os.mkdir('biblioteca_os')"
      ],
      "execution_count": 19,
      "outputs": []
    },
    {
      "cell_type": "markdown",
      "metadata": {
        "id": "E3mCeA95PbN6"
      },
      "source": [
        "Para visualizar nossa pasta recém-criada utilizaremos a função `listdir()` que listará todos os nossos diretórios dentro da nossa pasta. \n",
        "\n",
        "Perceba que teremos, além da nossa pasta criada, outros dois item na nossa lista, um arquivo e uma pasta, esses dois itens são criados automaticamente pelo Google Colab."
      ]
    },
    {
      "cell_type": "code",
      "metadata": {
        "colab": {
          "base_uri": "https://localhost:8080/"
        },
        "id": "Zl1LZiHVLbuC",
        "outputId": "4f2daaa9-f13b-4f90-c8e2-08577fb51d60"
      },
      "source": [
        "os.listdir()"
      ],
      "execution_count": 28,
      "outputs": [
        {
          "output_type": "execute_result",
          "data": {
            "text/plain": [
              "['.config', 'biblioteca_os', 'sample_data']"
            ]
          },
          "metadata": {
            "tags": []
          },
          "execution_count": 28
        }
      ]
    },
    {
      "cell_type": "markdown",
      "metadata": {
        "id": "j5_Aaa97QTRz"
      },
      "source": [
        "Para abrir uma pasta utilizaremos a função `chdir` e passaremos para ela o nome da pasta que desejamos abrir. Abriremos a pasta criada por nós. Repare que passaremos não só o nome da nossa pasta, mas, também o diretório inteiro, caso passemos somente o nome da pasta uma exceção será disparada."
      ]
    },
    {
      "cell_type": "code",
      "metadata": {
        "id": "a1r-5VsnLJb8"
      },
      "source": [
        "os.chdir('/content/biblioteca_os')"
      ],
      "execution_count": 31,
      "outputs": []
    },
    {
      "cell_type": "markdown",
      "metadata": {
        "id": "RZa7cET7RE0k"
      },
      "source": [
        "Podemos validar a pasta que estamos utilizando novamente a função `getcwd` e veremos que estamos de acordo com o argumento passado para a função `chdir`."
      ]
    },
    {
      "cell_type": "code",
      "metadata": {
        "colab": {
          "base_uri": "https://localhost:8080/",
          "height": 35
        },
        "id": "nqKQwYzjLM0b",
        "outputId": "7824c025-6101-4eaf-bd4f-15aa80e4ce1f"
      },
      "source": [
        "os.getcwd()"
      ],
      "execution_count": 33,
      "outputs": [
        {
          "output_type": "execute_result",
          "data": {
            "application/vnd.google.colaboratory.intrinsic+json": {
              "type": "string"
            },
            "text/plain": [
              "'/content/biblioteca_os'"
            ]
          },
          "metadata": {
            "tags": []
          },
          "execution_count": 33
        }
      ]
    },
    {
      "cell_type": "markdown",
      "metadata": {
        "id": "glHhok11RRDj"
      },
      "source": [
        "Agora iremos abrir a pasta que o Google Colab cria automaticamente, faremos isso para apresentar a função `listdir` que mostra os arquivos no diretório atual."
      ]
    },
    {
      "cell_type": "code",
      "metadata": {
        "colab": {
          "base_uri": "https://localhost:8080/"
        },
        "id": "iuU9wtNkLiuC",
        "outputId": "4c47a54c-3579-49ab-f761-2599c28659ff"
      },
      "source": [
        "os.chdir('/content/sample_data')\n",
        "os.listdir()"
      ],
      "execution_count": 34,
      "outputs": [
        {
          "output_type": "execute_result",
          "data": {
            "text/plain": [
              "['README.md',\n",
              " 'anscombe.json',\n",
              " 'biblioteca_os',\n",
              " '\\\\MyPythonProject',\n",
              " 'mnist_test.csv',\n",
              " 'california_housing_train.csv',\n",
              " 'california_housing_test.csv',\n",
              " 'mnist_train_small.csv']"
            ]
          },
          "metadata": {
            "tags": []
          },
          "execution_count": 34
        }
      ]
    }
  ]
}